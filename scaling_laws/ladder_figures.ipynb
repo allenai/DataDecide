version https://git-lfs.github.com/spec/v1
oid sha256:e4fe02c2798c76819c72d8cc09956b2be0cc7fa887590d98bd22616665a8ffa9
size 4294560
