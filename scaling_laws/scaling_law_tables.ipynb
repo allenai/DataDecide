version https://git-lfs.github.com/spec/v1
oid sha256:d1306a4fedb643a36948a236b04729133723683c9daf8363b5f2c691705681a3
size 4800314
