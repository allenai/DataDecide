version https://git-lfs.github.com/spec/v1
oid sha256:1760e6679464d8ffa586d3f675fecaf6579c676b6cc9fd03567971e715b262ad
size 427688
