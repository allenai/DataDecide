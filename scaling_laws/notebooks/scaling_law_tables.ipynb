version https://git-lfs.github.com/spec/v1
oid sha256:87cfa355a79f9ccaa03357a7755821c4097b8b67ce74152fde13cbdba0aaff44
size 110544
