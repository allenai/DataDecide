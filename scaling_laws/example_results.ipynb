version https://git-lfs.github.com/spec/v1
oid sha256:572bb912a8970548a325438a8d364b25df865774fc3359945b76f9d1c233c3b7
size 427692
